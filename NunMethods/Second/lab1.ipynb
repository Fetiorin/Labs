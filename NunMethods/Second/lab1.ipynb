{
 "cells": [
  {
   "cell_type": "code",
   "execution_count": 20,
   "metadata": {
    "collapsed": true
   },
   "outputs": [],
   "source": [
    "import numpy as np\n",
    "import matplotlib.pyplot as plt\n",
    "\n",
    "%matplotlib inline"
   ]
  },
  {
   "cell_type": "code",
   "execution_count": 58,
   "metadata": {
    "collapsed": false
   },
   "outputs": [],
   "source": [
    "def f(x): \n",
    "    return np.sin(x)"
   ]
  },
  {
   "cell_type": "code",
   "execution_count": 60,
   "metadata": {
    "collapsed": false
   },
   "outputs": [],
   "source": [
    "def intLambda(a, b, eps, fun):\n",
    "    def intLambda0(curr, acc): \n",
    "        if (curr > b-eps):\n",
    "            return acc\n",
    "        else:\n",
    "            return intLambda0(curr + eps, acc + fun(curr, eps))\n",
    "    return intLambda0(a, 0)"
   ]
  },
  {
   "cell_type": "code",
   "execution_count": 25,
   "metadata": {
    "collapsed": false
   },
   "outputs": [
    {
     "data": {
      "text/plain": [
       "49.304487101155615"
      ]
     },
     "execution_count": 25,
     "metadata": {},
     "output_type": "execute_result"
    }
   ],
   "source": [
    "def intRectangle(a, b, eps = .01):\n",
    "    return intLambda(a, b, eps, lambda x, y: f(x) * y)"
   ]
  },
  {
   "cell_type": "markdown",
   "metadata": {},
   "source": [
    "![](https://wikimedia.org/api/rest_v1/media/math/render/svg/4b56ef87b0460f78992c4690b6e6c1b0da76eed5)"
   ]
  },
  {
   "cell_type": "code",
   "execution_count": 26,
   "metadata": {
    "collapsed": false
   },
   "outputs": [],
   "source": [
    "def intTrapez(a, b, eps = .01):\n",
    "    return intLambda(a, b, eps, lambda x, y: (f(x) + f(x+y)) / 2 * y)"
   ]
  },
  {
   "cell_type": "markdown",
   "metadata": {},
   "source": [
    "![formula](https://wikimedia.org/api/rest_v1/media/math/render/svg/cc7c747008ac8a55fabc6f5c6099981e2970dd69)"
   ]
  },
  {
   "cell_type": "code",
   "execution_count": 43,
   "metadata": {
    "collapsed": false
   },
   "outputs": [],
   "source": [
    "def intSimpson(a, b, eps = .01):\n",
    "    return intLambda(a, b, eps, lambda x, y: (y/6)*(f(x)+4*f(x+y/2)+f(x+y)))\n",
    "#intSimpson(0, 5)"
   ]
  },
  {
   "cell_type": "code",
   "execution_count": 61,
   "metadata": {
    "collapsed": false
   },
   "outputs": [
    {
     "name": "stdout",
     "output_type": "stream",
     "text": [
      "1.99997410178\n",
      "1.99998206504\n",
      "1.99999873173\n"
     ]
    }
   ],
   "source": [
    "print(intRectangle(0, np.pi, 0.01))\n",
    "print(intTrapez(0, np.pi, 0.01))\n",
    "print(intSimpson(0, np.pi, 0.01))"
   ]
  },
  {
   "cell_type": "code",
   "execution_count": 8,
   "metadata": {
    "collapsed": false
   },
   "outputs": [],
   "source": [
    "def g(x):\n",
    "    return intRectangle(0, x)"
   ]
  },
  {
   "cell_type": "code",
   "execution_count": 16,
   "metadata": {
    "collapsed": false
   },
   "outputs": [
    {
     "data": {
      "text/plain": [
       "[<matplotlib.lines.Line2D at 0x1154b2208>]"
      ]
     },
     "execution_count": 16,
     "metadata": {},
     "output_type": "execute_result"
    },
    {
     "data": {
      "image/png": "[encoded data removed]",
      "text/plain": [
       "<matplotlib.figure.Figure at 0x10d51f278>"
      ]
     },
     "metadata": {},
     "output_type": "display_data"
    }
   ],
   "source": [
    "x = np.linspace(0, 5, 100)\n",
    "y = list(map(g, x))\n",
    "yy = list(map(f, x))\n",
    "\n",
    "f, (ax1, ax2) = plt.subplots(2,1)\n",
    "ax1.plot(x, y)\n",
    "ax2.plot(x, yy)"
   ]
  }
 ],
 "metadata": {
  "kernelspec": {
   "display_name": "Python [Root]",
   "language": "python",
   "name": "Python [Root]"
  },
  "language_info": {
   "codemirror_mode": {
    "name": "ipython",
    "version": 3
   },
   "file_extension": ".py",
   "mimetype": "text/x-python",
   "name": "python",
   "nbconvert_exporter": "python",
   "pygments_lexer": "ipython3",
   "version": "3.5.2"
  }
 },
 "nbformat": 4,
 "nbformat_minor": 0
}
