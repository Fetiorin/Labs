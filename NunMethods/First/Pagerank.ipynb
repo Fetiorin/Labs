{
 "cells": [
  {
   "cell_type": "code",
   "execution_count": 3,
   "metadata": {
    "collapsed": false
   },
   "outputs": [],
   "source": [
    "import numpy as np"
   ]
  },
  {
   "cell_type": "code",
   "execution_count": 4,
   "metadata": {
    "collapsed": false
   },
   "outputs": [],
   "source": [
    "def outLinks(node, edges):\n",
    "    i = 0\n",
    "    nodes = {}\n",
    "    for x in d:\n",
    "        if x[0] == node:\n",
    "            nodes[i] = x[1] \n",
    "            i += 1\n",
    "    return nodes"
   ]
  },
  {
   "cell_type": "code",
   "execution_count": 5,
   "metadata": {
    "collapsed": true
   },
   "outputs": [],
   "source": [
    "def unpack(edges):\n",
    "    nodes = np.unique(edges.flatten())\n",
    "    index = {}\n",
    "    i = 0\n",
    "    for node in nodes:\n",
    "        index[node] = i\n",
    "        i += 1\n",
    "    return (index, nodes)"
   ]
  },
  {
   "cell_type": "code",
   "execution_count": 25,
   "metadata": {
    "collapsed": false
   },
   "outputs": [],
   "source": [
    "def pagerank(edges):\n",
    "    (index, node) = unpack(edges)\n",
    "    size = len(index)\n",
    "    Mat = np.zeros((size, size))\n",
    "    for i in range(size):\n",
    "        a = [index[x] for x in np.array(list(outLinks(node[i],\n",
    "             edges).values()))]\n",
    "        if len(a) > 0:\n",
    "            Mat[a, i] = 1. / len(a)\n",
    "\n",
    "    pr = np.ones(size) / size\n",
    "    prev_pr = pr\n",
    "    i = 0\n",
    "    d = 0.85\n",
    "    while i < 100:\n",
    "        pr = (1 - d)/size + d * Mat.dot(pr)\n",
    "        if np.allclose(pr, prev_pr, atol=0., rtol=1e-6):\n",
    "            break\n",
    "        prev_pr = pr\n",
    "        i += 1\n",
    "    pr *= 100\n",
    "    return (dict(zip(node, pr)), i)"
   ]
  },
  {
   "cell_type": "markdown",
   "metadata": {},
   "source": [
    "<img src=\"./pagerank.png\" width=\"300\">"
   ]
  },
  {
   "cell_type": "code",
   "execution_count": 26,
   "metadata": {
    "collapsed": false
   },
   "outputs": [
    {
     "data": {
      "text/plain": [
       "({'A': 2.7645934714267262,\n",
       "  'B': 32.41804590927859,\n",
       "  'C': 28.918998145671637,\n",
       "  'D': 3.2963696653890882,\n",
       "  'E': 6.8214116532449092,\n",
       "  'F': 3.2963696653890882,\n",
       "  'I': 1.363636363636364,\n",
       "  'M': 1.363636363636364,\n",
       "  'Q': 1.363636363636364,\n",
       "  'U': 1.363636363636364,\n",
       "  'V': 1.363636363636364},\n",
       " 83)"
      ]
     },
     "execution_count": 26,
     "metadata": {},
     "output_type": "execute_result"
    }
   ],
   "source": [
    "d = np.array([\n",
    "    ('B', 'C'),('C', 'B'),('D', 'B'),('D', 'A'),\n",
    "    ('E', 'D'),('E', 'B'),('E', 'F'),('F', 'E'),\n",
    "    ('F', 'B'),('Q', 'B'),('Q', 'E'),('U', 'B'),\n",
    "    ('U', 'E'),('I', 'B'),('I', 'E'),('V', 'E'),\n",
    "    ('M', 'E'),])\n",
    "pagerank(d)"
   ]
  }
 ],
 "metadata": {
  "anaconda-cloud": {},
  "kernelspec": {
   "display_name": "Python [Root]",
   "language": "python",
   "name": "Python [Root]"
  },
  "language_info": {
   "codemirror_mode": {
    "name": "ipython",
    "version": 3
   },
   "file_extension": ".py",
   "mimetype": "text/x-python",
   "name": "python",
   "nbconvert_exporter": "python",
   "pygments_lexer": "ipython3",
   "version": "3.5.2"
  }
 },
 "nbformat": 4,
 "nbformat_minor": 0
}
