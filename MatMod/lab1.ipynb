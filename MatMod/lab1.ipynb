{
 "cells": [
  {
   "cell_type": "code",
   "execution_count": 3,
   "metadata": {
    "collapsed": false
   },
   "outputs": [],
   "source": [
    "import numpy as np\n",
    "import matplotlib.pyplot as plt\n",
    "import sympy as sp\n",
    "\n",
    "%matplotlib inline"
   ]
  },
  {
   "cell_type": "code",
   "execution_count": 12,
   "metadata": {
    "collapsed": false
   },
   "outputs": [],
   "source": [
    "(b, e) = (0, 5)\n",
    "t = 1/e\n",
    "x = np.linspace(b, e, num=len(y))"
   ]
  },
  {
   "cell_type": "code",
   "execution_count": 5,
   "metadata": {
    "collapsed": false
   },
   "outputs": [],
   "source": [
    "y = [1, 15.6545, 24.696, 24.6556, 15.5332, 0.79775, -13.9378, -23.0606, -23.1018, -14.0613, 0.592, 15.2452, 24.2855, 24.2439, 15.1205, 0.38425, -14.352, -23.4755, -23.5171, -14.477, 0.176, 14.8291, 23.8693, 23.8278, 14.7047, -0.03125, -14.7671, -23.8899, -23.9309, -14.89, -0.236, 14.4181, 23.4595, 23.4194, 14.2976, -0.43675, -15.1709, -24.292, -24.3311, -15.2881, -0.632, 14.0244, 23.0682, 23.0305, 13.9114, -0.82025, -15.5516, -24.6697, -24.7056, -15.6594, -1, 13.6598, 22.7072, 22.6733, 13.558, -1.1698, -15.897, -25.0109, -25.0426, -15.992, -1.328, 13.3365, 22.3887, 22.3596, 13.2493, -1.4733, -16.1952, -25.3038, -25.3299, -16.2737, -1.604, 13.0664, 22.1245, 22.1015, 12.9975, -1.7187, -16.4343, -25.5362, -25.5557, -16.4927, -1.816, 12.8614, 21.9267, 21.9111, 12.8144, -1.8942, -16.6021, -25.6963, -25.7079, -16.6368, -1.952, 12.7337, 21.8074, 21.8002, 12.7122, -1.9878, -16.6868, -25.772, -25.7744, -16.6941, -2, 12.6951, 21.7784, 21.781, 12.7028, -1.9873, -16.6762, -25.7512, -25.7434, -16.6527, -1.948, 12.7578, 21.8519, 21.8653, 12.7981, -1.8808, -16.5584, -25.6221, -25.6027, -16.5004, -1.784, 12.9337, 22.0397, 22.0652, 13.0103, -1.6563, -16.3215, -25.3725, -25.3405, -16.2254, -1.496, 13.2347, 22.3539, 22.3928, 13.3512, -1.3018, -15.9533, -24.9906, -24.9447, -15.8155, -1.072, 13.673, 22.8066, 22.8599, 13.833, -0.80525, -15.442, -24.4643, -24.4032, -15.2588, -0.5, 14.2604, 23.4096, 23.4787, 14.4676, -0.15475, -14.7754, -23.7815, -23.7042, -14.5434, 0.232, 15.0091, 24.1751, 24.261, 15.2669, 0.66175, -13.9416, -22.9304, -22.8355, -13.6571, 1.136, 15.931, 25.1149, 25.2189, 16.2431, 1.6563, -12.9287, -21.8988, -21.7853, -12.5881, 2.224, 17.038, 26.2411, 26.3645, 17.408, 2.8408, -11.7245, -20.6749, -20.5415, -11.3242, 3.508, 18.3423, 27.5658, 27.7096, 18.7738, 4.2273, -10.3172, -19.2466, -19.092, -9.8535, 5, 19.8557, 29.1008, 29.2664, 20.3524, 5.8278, -8.6946, -17.6018, -17.425, -8.1641, 6.712, 21.5904, 30.8583, 31.0467, 22.1557, 7.6543, -6.8448, -15.7287, -15.5283, -6.2438, 8.656, 23.5583, 32.8501, 33.0626, 24.1959, 9.7188, -4.7559, -13.6151, -13.3901, -4.0808, 10.844, 25.7713, 35.0883, 35.3262, 26.4848, 12.0332, -2.4157, -11.2492, -10.9983, -1.6629, 13.288, 28.2416, 37.585, 37.8493, 29.0346, 14.6097, 0.18764, -8.6189, -8.3408, 1.0218, 16, 30.981, 40.352, 40.6441, 31.8572, 17.4603, 3.0662, -5.7121, -5.4058, 3.9852, 18.992, 34.0017, 43.4015, 43.7224, 34.9645, 20.5968, 6.232, -2.517, -2.1811, 7.2395, 22.276, 37.3156, 46.7453, 47.0963, 38.3687, 24.0312, 9.6969, 0.97855, 1.3451, 10.7965, 25.864, 40.9346, 50.3955, 50.7779, 42.0816, 27.7757, 13.4731, 4.7865, 5.1849, 14.6684, 29.768, 44.8709, 54.3642, 54.779, 46.1154, 31.8422, 17.5724, 8.9188, 9.3504, 18.8671, 34, 49.1363, 58.6632, 59.1118, 50.482, 36.2428, 22.007, 13.3876, 13.8534, 23.4045, 38.572, 53.743, 63.3047, 63.7881, 55.1933, 40.9893, 26.7888, 18.2047, 18.7061, 28.2928, 43.496, 58.7029, 68.3005, 68.82, 60.2615, 46.0938, 31.9297, 23.3823, 23.9203, 33.5438, 48.784, 64.0279, 73.6627, 74.2196, 65.6984, 51.5683, 37.4419, 28.9322, 29.5081, 39.1697, 54.448, 69.7302, 79.4034, 79.9987, 71.5162, 57.4248, 43.3372, 34.8665, 35.4816, 45.1824, 60.5, 75.8216, 85.5344, 86.1695, 77.7268, 63.6753, 49.6278, 41.1973, 41.8526, 51.5938, 66.952, 82.3143, 92.0679, 92.7438, 84.3421, 70.3318, 56.3256, 47.9364, 48.6333, 58.4161, 73.816, 89.2202, 99.0157, 99.7337, 91.3743, 77.4063, 63.4425, 55.096, 55.8355, 65.6611, 81.104, 96.5512, 106.3899, 107.1513, 98.8352, 84.9108, 70.9907, 62.6879, 63.4713, 73.341, 88.828, 104.3195, 114.2026, 115.0084, 106.737, 92.8572, 78.982, 70.7242, 71.5528, 81.4677, 97, 112.5369, 122.4656, 123.3172, 115.0916, 101.2578, 87.4286, 79.217, 80.0918, 90.0531, 105.632, 121.2156, 131.1911, 132.0895, 123.9109, 110.1242, 96.3424, 88.1781, 89.1005, 99.1094, 114.736, 130.3675, 140.3909, 141.3374, 133.2071, 119.4688, 105.7353, 97.6197, 98.5907, 108.6484, 124.324, 140.0045, 150.0771, 151.073, 142.992, 129.3033, 115.6195, 107.5536, 108.5745, 118.6823, 134.408, 150.1388, 160.2618, 161.3081, 153.2778, 139.6397, 126.0068, 117.9919, 119.064, 129.223, 145, 160.7822, 170.9568, 172.0549, 164.0764, 150.4903, 136.9094, 128.9467, 130.071, 140.2824, 156.112, 171.9469, 182.1743, 183.3252, 175.3997, 161.8667, 148.3392, 140.4298, 141.6077, 151.8727, 167.756, 183.6448, 193.9261, 195.1311, 187.2599, 173.7813, 160.3081, 152.4534, 153.6859, 164.0057, 179.944, 195.8878, 206.2243, 207.4847, 199.6688, 186.2458, 172.8283, 165.0293, 166.3177, 176.6936, 192.688, 208.6881, 219.081, 220.3978, 212.6386, 199.2722, 185.9116, 178.1696, 179.5152, 189.9483, 206]"
   ]
  },
  {
   "cell_type": "code",
   "execution_count": 6,
   "metadata": {
    "collapsed": false
   },
   "outputs": [],
   "source": [
    "def DFT(x):\n",
    "    y = len(x)\n",
    "    X = np.zeros(y, dtype = np.complex)\n",
    "    N = len(x)\n",
    "    for k in range(y):\n",
    "        for n in range(N):\n",
    "            X[k] += x[n] * np.exp(-1j * 2 * np.pi * k * n / N)\n",
    "    return X"
   ]
  },
  {
   "cell_type": "code",
   "execution_count": 8,
   "metadata": {
    "collapsed": false
   },
   "outputs": [],
   "source": [
    "def maxs(y):\n",
    "    f = np.absolute(DFT(y))\n",
    "    g = np.array([])\n",
    "    for i in range(2, len(f)//2):\n",
    "        if (f[i-1]<f[i] and f[i+1]<f[i]):\n",
    "            g = np.append(g, i*t)\n",
    "    return g"
   ]
  },
  {
   "cell_type": "code",
   "execution_count": 9,
   "metadata": {
    "collapsed": false
   },
   "outputs": [],
   "source": [
    "def createMat(y):\n",
    "    b = np.zeros(5)\n",
    "    A = np.zeros((5,5))\n",
    "    g = maxs(y)\n",
    "    for (i, j) in zip(x, y):\n",
    "        sin = np.sin(2*np.pi*g[0]*i)\n",
    "        A[0] += [i**6,     i**5,     i**4,  i**3*sin, i**3]\n",
    "        A[1] += [i**5,     i**4,     i**3,  i**2*sin, i**2]\n",
    "        A[2] += [i**4,     i**3,     i**2,  i   *sin,    i]        \n",
    "        A[3] += [i**3*sin, i**2*sin, i*sin, sin**2,    sin]\n",
    "        A[4] += [i**3,     i**2,     i   ,  i*sin,       1]\n",
    "        b += [j*i**3, j*i**2, j*i, j*np.sin(2*np.pi*g[0]*i),  j]\n",
    "    return (A, b)"
   ]
  },
  {
   "cell_type": "code",
   "execution_count": 223,
   "metadata": {
    "collapsed": false
   },
   "outputs": [],
   "source": [
    "#def createVector(y):\n",
    "#    b = np.zeros(5)\n",
    "#    j = 0\n",
    "#    for i in y:\n",
    "#        b += [i*j**3, i*j**2, i*j, i*np.sin(2*np.pi*g[0]*j),  i]\n",
    "#        j+=0.01\n",
    "#    return b"
   ]
  },
  {
   "cell_type": "code",
   "execution_count": 10,
   "metadata": {
    "collapsed": false
   },
   "outputs": [],
   "source": [
    "def graph(x, y):\n",
    "    (A, b) = createMat(y)\n",
    "    a = np.linalg.solve(A, b)\n",
    "    yy = np.zeros(len(x))\n",
    "    g = maxs(y)[0]\n",
    "    j = 0\n",
    "    for i in x:\n",
    "        yy[j] = a[0]*i**3+a[1]*i**2+a[2]*i+a[3]*np.sin(2*np.pi*g*i)+a[4]\n",
    "        j += 1 \n",
    "    return yy"
   ]
  },
  {
   "cell_type": "code",
   "execution_count": 18,
   "metadata": {
    "collapsed": false
   },
   "outputs": [
    {
     "ename": "ValueError",
     "evalue": "could not broadcast input array from shape (5,5) into shape (5)",
     "output_type": "error",
     "traceback": [
      "\u001b[0;31m---------------------------------------------------------------------------\u001b[0m",
      "\u001b[0;31mValueError\u001b[0m                                Traceback (most recent call last)",
      "\u001b[0;32m<ipython-input-18-c5a544668f41>\u001b[0m in \u001b[0;36m<module>\u001b[0;34m()\u001b[0m\n\u001b[1;32m      1\u001b[0m \u001b[0mA\u001b[0m \u001b[0;34m=\u001b[0m \u001b[0mcreateMat\u001b[0m\u001b[0;34m(\u001b[0m\u001b[0my\u001b[0m\u001b[0;34m)\u001b[0m\u001b[0;34m\u001b[0m\u001b[0m\n\u001b[0;32m----> 2\u001b[0;31m \u001b[0mnp\u001b[0m\u001b[0;34m.\u001b[0m\u001b[0mlinalg\u001b[0m\u001b[0;34m.\u001b[0m\u001b[0msolve\u001b[0m\u001b[0;34m(\u001b[0m\u001b[0mA\u001b[0m\u001b[0;34m,\u001b[0m \u001b[0mb\u001b[0m\u001b[0;34m)\u001b[0m\u001b[0;34m\u001b[0m\u001b[0m\n\u001b[0m",
      "\u001b[0;32m/Users/Fetiorin/anaconda/lib/python3.5/site-packages/numpy/linalg/linalg.py\u001b[0m in \u001b[0;36msolve\u001b[0;34m(a, b)\u001b[0m\n\u001b[1;32m    354\u001b[0m \u001b[0;34m\u001b[0m\u001b[0m\n\u001b[1;32m    355\u001b[0m     \"\"\"\n\u001b[0;32m--> 356\u001b[0;31m     \u001b[0ma\u001b[0m\u001b[0;34m,\u001b[0m \u001b[0m_\u001b[0m \u001b[0;34m=\u001b[0m \u001b[0m_makearray\u001b[0m\u001b[0;34m(\u001b[0m\u001b[0ma\u001b[0m\u001b[0;34m)\u001b[0m\u001b[0;34m\u001b[0m\u001b[0m\n\u001b[0m\u001b[1;32m    357\u001b[0m     \u001b[0m_assertRankAtLeast2\u001b[0m\u001b[0;34m(\u001b[0m\u001b[0ma\u001b[0m\u001b[0;34m)\u001b[0m\u001b[0;34m\u001b[0m\u001b[0m\n\u001b[1;32m    358\u001b[0m     \u001b[0m_assertNdSquareness\u001b[0m\u001b[0;34m(\u001b[0m\u001b[0ma\u001b[0m\u001b[0;34m)\u001b[0m\u001b[0;34m\u001b[0m\u001b[0m\n",
      "\u001b[0;32m/Users/Fetiorin/anaconda/lib/python3.5/site-packages/numpy/linalg/linalg.py\u001b[0m in \u001b[0;36m_makearray\u001b[0;34m(a)\u001b[0m\n\u001b[1;32m    105\u001b[0m \u001b[0;34m\u001b[0m\u001b[0m\n\u001b[1;32m    106\u001b[0m \u001b[0;32mdef\u001b[0m \u001b[0m_makearray\u001b[0m\u001b[0;34m(\u001b[0m\u001b[0ma\u001b[0m\u001b[0;34m)\u001b[0m\u001b[0;34m:\u001b[0m\u001b[0;34m\u001b[0m\u001b[0m\n\u001b[0;32m--> 107\u001b[0;31m     \u001b[0mnew\u001b[0m \u001b[0;34m=\u001b[0m \u001b[0masarray\u001b[0m\u001b[0;34m(\u001b[0m\u001b[0ma\u001b[0m\u001b[0;34m)\u001b[0m\u001b[0;34m\u001b[0m\u001b[0m\n\u001b[0m\u001b[1;32m    108\u001b[0m     \u001b[0mwrap\u001b[0m \u001b[0;34m=\u001b[0m \u001b[0mgetattr\u001b[0m\u001b[0;34m(\u001b[0m\u001b[0ma\u001b[0m\u001b[0;34m,\u001b[0m \u001b[0;34m\"__array_prepare__\"\u001b[0m\u001b[0;34m,\u001b[0m \u001b[0mnew\u001b[0m\u001b[0;34m.\u001b[0m\u001b[0m__array_wrap__\u001b[0m\u001b[0;34m)\u001b[0m\u001b[0;34m\u001b[0m\u001b[0m\n\u001b[1;32m    109\u001b[0m     \u001b[0;32mreturn\u001b[0m \u001b[0mnew\u001b[0m\u001b[0;34m,\u001b[0m \u001b[0mwrap\u001b[0m\u001b[0;34m\u001b[0m\u001b[0m\n",
      "\u001b[0;32m/Users/Fetiorin/anaconda/lib/python3.5/site-packages/numpy/core/numeric.py\u001b[0m in \u001b[0;36masarray\u001b[0;34m(a, dtype, order)\u001b[0m\n\u001b[1;32m    480\u001b[0m \u001b[0;34m\u001b[0m\u001b[0m\n\u001b[1;32m    481\u001b[0m     \"\"\"\n\u001b[0;32m--> 482\u001b[0;31m     \u001b[0;32mreturn\u001b[0m \u001b[0marray\u001b[0m\u001b[0;34m(\u001b[0m\u001b[0ma\u001b[0m\u001b[0;34m,\u001b[0m \u001b[0mdtype\u001b[0m\u001b[0;34m,\u001b[0m \u001b[0mcopy\u001b[0m\u001b[0;34m=\u001b[0m\u001b[0;32mFalse\u001b[0m\u001b[0;34m,\u001b[0m \u001b[0morder\u001b[0m\u001b[0;34m=\u001b[0m\u001b[0morder\u001b[0m\u001b[0;34m)\u001b[0m\u001b[0;34m\u001b[0m\u001b[0m\n\u001b[0m\u001b[1;32m    483\u001b[0m \u001b[0;34m\u001b[0m\u001b[0m\n\u001b[1;32m    484\u001b[0m \u001b[0;32mdef\u001b[0m \u001b[0masanyarray\u001b[0m\u001b[0;34m(\u001b[0m\u001b[0ma\u001b[0m\u001b[0;34m,\u001b[0m \u001b[0mdtype\u001b[0m\u001b[0;34m=\u001b[0m\u001b[0;32mNone\u001b[0m\u001b[0;34m,\u001b[0m \u001b[0morder\u001b[0m\u001b[0;34m=\u001b[0m\u001b[0;32mNone\u001b[0m\u001b[0;34m)\u001b[0m\u001b[0;34m:\u001b[0m\u001b[0;34m\u001b[0m\u001b[0m\n",
      "\u001b[0;31mValueError\u001b[0m: could not broadcast input array from shape (5,5) into shape (5)"
     ]
    }
   ],
   "source": [
    "A = createMat(y)\n",
    "np.linalg.solve(A, b)"
   ]
  },
  {
   "cell_type": "code",
   "execution_count": 17,
   "metadata": {
    "collapsed": false
   },
   "outputs": [
    {
     "data": {
      "text/plain": [
       "[<matplotlib.lines.Line2D at 0x1120f2f60>]"
      ]
     },
     "execution_count": 17,
     "metadata": {},
     "output_type": "execute_result"
    },
    {
     "data": {
      "image/png": "[encoded data removed]",
      "text/plain": [
       "<matplotlib.figure.Figure at 0x10f56e7f0>"
      ]
     },
     "metadata": {},
     "output_type": "display_data"
    }
   ],
   "source": [
    "plt.plot(x, np.absolute(DFT(y)))"
   ]
  },
  {
   "cell_type": "code",
   "execution_count": 19,
   "metadata": {
    "collapsed": false
   },
   "outputs": [
    {
     "data": {
      "text/plain": [
       "[<matplotlib.lines.Line2D at 0x1122af7b8>]"
      ]
     },
     "execution_count": 19,
     "metadata": {},
     "output_type": "execute_result"
    },
    {
     "data": {
      "image/png": "[encoded data removed]",
      "text/plain": [
       "<matplotlib.figure.Figure at 0x1120c1940>"
      ]
     },
     "metadata": {},
     "output_type": "display_data"
    }
   ],
   "source": [
    "f, (ax1, ax2) = plt.subplots(2,1)\n",
    "ax1.plot(x, y)\n",
    "ax2.plot(x, graph(x,y))"
   ]
  },
  {
   "cell_type": "code",
   "execution_count": 239,
   "metadata": {
    "collapsed": false
   },
   "outputs": [
    {
     "data": {
      "text/plain": [
       "-0.38323059365966278"
      ]
     },
     "execution_count": 239,
     "metadata": {},
     "output_type": "execute_result"
    }
   ],
   "source": [
    "def err(x, y):\n",
    "    (A, b) = createMat(y)\n",
    "    a = np.linalg.solve(A, b)\n",
    "    yy = np.zeros(len(x))\n",
    "    g = maxs(y)[0]\n",
    "    j = 0\n",
    "    for i in x:\n",
    "        yy[j] = a[0]*i**3+a[1]*i**2+a[2]*i+a[3]*np.sin(2*np.pi*g*i)+a[4]\n",
    "        j += 1 \n",
    "    return y-yy\n",
    "np.average(err(x,y))"
   ]
  }
 ],
 "metadata": {
  "anaconda-cloud": {},
  "kernelspec": {
   "display_name": "Python [Root]",
   "language": "python",
   "name": "Python [Root]"
  },
  "language_info": {
   "codemirror_mode": {
    "name": "ipython",
    "version": 3
   },
   "file_extension": ".py",
   "mimetype": "text/x-python",
   "name": "python",
   "nbconvert_exporter": "python",
   "pygments_lexer": "ipython3",
   "version": "3.5.2"
  }
 },
 "nbformat": 4,
 "nbformat_minor": 0
}
